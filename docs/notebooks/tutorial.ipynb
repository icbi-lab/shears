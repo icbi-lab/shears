{
 "cells": [
  {
   "cell_type": "code",
   "execution_count": 1,
   "id": "a1866022",
   "metadata": {},
   "outputs": [],
   "source": [
    "%load_ext autoreload\n",
    "%autoreload 2"
   ]
  },
  {
   "cell_type": "code",
   "execution_count": 2,
   "id": "25c0d614",
   "metadata": {},
   "outputs": [],
   "source": [
    "import numpy as np\n",
    "import pandas as pd\n",
    "import scanpy as sc\n",
    "import shears as sh\n",
    "import pyreadr\n",
    "from threadpoolctl import threadpool_limits"
   ]
  },
  {
   "cell_type": "code",
   "execution_count": 3,
   "id": "eaeb67f9",
   "metadata": {},
   "outputs": [
    {
     "data": {
      "text/plain": [
       "<threadpoolctl.threadpool_limits at 0x7f0e43b6f2e0>"
      ]
     },
     "execution_count": 3,
     "metadata": {},
     "output_type": "execute_result"
    }
   ],
   "source": [
    "\n",
    "threadpool_limits(16)"
   ]
  },
  {
   "cell_type": "code",
   "execution_count": 4,
   "id": "04ee300a",
   "metadata": {},
   "outputs": [],
   "source": [
    "# adata = sc.read_h5ad(\"/home/sturm/projects/2020/pircher-scrnaseq-lung/data/20_build_atlas/add_additional_datasets/03_update_annotation/artifacts/full_atlas_merged.h5ad\")\n",
    "# adata = adata[adata.obs[\"origin\"] == \"tumor_primary\", :]\n",
    "# sc.pp.subsample(adata, n_obs=20000)\n",
    "# adata.write_h5ad(\"data/luca_20k.h5ad\")"
   ]
  },
  {
   "cell_type": "code",
   "execution_count": 34,
   "id": "893d2481",
   "metadata": {},
   "outputs": [
    {
     "name": "stderr",
     "output_type": "stream",
     "text": [
      "/local/scratch/sturm/ipykernel_13186/1353321048.py:4: FutureWarning: X.dtype being converted to np.float32 from float64. In the next version of anndata (0.9) conversion will not be automatic. Pass dtype explicitly to avoid this warning. Pass `AnnData(X, dtype=X.dtype, ...)` to get the future behavour.\n",
      "  adata_tcga = sc.AnnData(tcga.T)\n"
     ]
    }
   ],
   "source": [
    "tcga = pyreadr.read_r(\n",
    "    \"/home/sturm/projects/2020/pircher-scrnaseq-lung/data/13_tcga/for_scissor/nsclc_primary_tumor.rds\"\n",
    ")[None]\n",
    "adata_tcga = sc.AnnData(tcga.T)"
   ]
  },
  {
   "cell_type": "code",
   "execution_count": 35,
   "id": "89e2de5f",
   "metadata": {},
   "outputs": [],
   "source": [
    "tcga_meta = pd.read_csv(\n",
    "    \"/home/sturm/projects/2020/pircher-scrnaseq-lung/tables/tcga/clinical_data_for_scissor.tsv\",\n",
    "    sep=\"\\t\",\n",
    ").set_index(\"TCGA_patient_barcode\")\n",
    "adata_tcga.obs = adata_tcga.obs.join(tcga_meta)"
   ]
  },
  {
   "cell_type": "code",
   "execution_count": 36,
   "id": "04bb019f",
   "metadata": {},
   "outputs": [],
   "source": [
    "adata_sc = sc.read_h5ad(\"data/luca_20k.h5ad\")"
   ]
  },
  {
   "cell_type": "code",
   "execution_count": null,
   "id": "08d05e7e",
   "metadata": {},
   "outputs": [],
   "source": [
    "adata_sc_bk, adata_tcga_bk = adata_sc.copy(), adata_tcga.copy()"
   ]
  },
  {
   "cell_type": "markdown",
   "id": "6c56a554",
   "metadata": {},
   "source": [
    "## Preprocessing\n",
    "\n",
    "In this section, we are going to \n",
    " * select the most highly variable genes\n",
    " * subset bulk and single-cell data to common genes\n",
    " * Perform quantile normalization on both single-cell and bulk data"
   ]
  },
  {
   "cell_type": "code",
   "execution_count": 8,
   "id": "4c4ebc84",
   "metadata": {},
   "outputs": [],
   "source": [
    "# subset single-cell data to genes in bulk data. Do this *before* highly-variable gene calculation\n",
    "adata_sc = adata_sc[:, adata_sc.var_names.isin(adata_tcga.var_names)]"
   ]
  },
  {
   "cell_type": "code",
   "execution_count": 9,
   "id": "0c1d842c",
   "metadata": {},
   "outputs": [
    {
     "name": "stderr",
     "output_type": "stream",
     "text": [
      "/data/scratch/sturm/conda/envs/shears_dev/lib/python3.9/site-packages/anndata/compat/_overloaded_dict.py:106: ImplicitModificationWarning: Trying to modify attribute `._uns` of view, initializing view as actual.\n",
      "  self.data[key] = value\n"
     ]
    }
   ],
   "source": [
    "sc.pp.highly_variable_genes(adata_sc, n_top_genes=2000, flavor=\"seurat_v3\", subset=True)"
   ]
  },
  {
   "cell_type": "code",
   "execution_count": 10,
   "id": "bd18a861",
   "metadata": {},
   "outputs": [],
   "source": [
    "# subset bulk data to the highly variable genes\n",
    "adata_tcga = adata_tcga[:, adata_sc.var_names]"
   ]
  },
  {
   "cell_type": "code",
   "execution_count": 23,
   "id": "3a73531f",
   "metadata": {},
   "outputs": [],
   "source": [
    "sh.pp.quantile_norm(adata_sc)\n",
    "sh.pp.quantile_norm(adata_tcga)"
   ]
  },
  {
   "cell_type": "markdown",
   "id": "71439fbe",
   "metadata": {},
   "source": [
    "The same can be achieved automatically (though less flexibly) by using `func::shears.pp.recipy_shears`:"
   ]
  },
  {
   "cell_type": "code",
   "execution_count": 37,
   "id": "1ff0f03c",
   "metadata": {},
   "outputs": [],
   "source": [
    "adata_sc, adata_tcga = sh.pp.recipe_shears(adata_sc_bk, adata_tcga_bk)"
   ]
  },
  {
   "cell_type": "markdown",
   "id": "018a1134",
   "metadata": {},
   "source": []
  }
 ],
 "metadata": {
  "jupytext": {
   "cell_metadata_filter": "-all",
   "custom_cell_magics": "kql"
  },
  "kernelspec": {
   "display_name": "Python 3.9.13 ('shears_dev')",
   "language": "python",
   "name": "python3"
  },
  "language_info": {
   "codemirror_mode": {
    "name": "ipython",
    "version": 3
   },
   "file_extension": ".py",
   "mimetype": "text/x-python",
   "name": "python",
   "nbconvert_exporter": "python",
   "pygments_lexer": "ipython3",
   "version": "3.9.13"
  },
  "vscode": {
   "interpreter": {
    "hash": "bfe63b93a480beba5f32cd273d91135fb65bc951cf7e6016eb55a76a9823d3cf"
   }
  }
 },
 "nbformat": 4,
 "nbformat_minor": 5
}
